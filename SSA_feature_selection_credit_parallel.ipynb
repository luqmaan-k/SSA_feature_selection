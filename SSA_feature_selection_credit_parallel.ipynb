{
 "cells": [
  {
   "cell_type": "code",
   "execution_count": 3,
   "id": "789c46b8-e8d6-4012-8159-23e5d2860fe5",
   "metadata": {},
   "outputs": [],
   "source": [
    "import numpy as np\n",
    "import pandas as pd\n",
    "from sklearn.datasets import load_breast_cancer\n",
    "from sklearn.preprocessing import MinMaxScaler\n",
    "from sklearn.model_selection import cross_val_score\n",
    "from sklearn.linear_model import LogisticRegression\n",
    "from sklearn.ensemble import RandomForestClassifier\n",
    "from sklearn.preprocessing import MinMaxScaler\n",
    "from sklearn.svm import SVC\n",
    "from sklearn.model_selection import cross_val_score, train_test_split\n",
    "from sklearn.decomposition import PCA\n",
    "from pyspark import SparkContext, SparkConf\n",
    "from sklearn.ensemble import RandomForestClassifier\n",
    "import sys"
   ]
  },
  {
   "cell_type": "code",
   "execution_count": 4,
   "id": "d921e6d6-4191-4f9f-bbe3-c0ca54cb3aef",
   "metadata": {},
   "outputs": [
    {
     "name": "stderr",
     "output_type": "stream",
     "text": [
      "/home/ttwist/.local/lib/python3.12/site-packages/tqdm/auto.py:21: TqdmWarning: IProgress not found. Please update jupyter and ipywidgets. See https://ipywidgets.readthedocs.io/en/stable/user_install.html\n",
      "  from .autonotebook import tqdm as notebook_tqdm\n"
     ]
    },
    {
     "name": "stdout",
     "output_type": "stream",
     "text": [
      "Path to dataset files: /home/ttwist/.cache/kagglehub/datasets/mlg-ulb/creditcardfraud/versions/3\n"
     ]
    }
   ],
   "source": [
    "import kagglehub\n",
    "\n",
    "# Download latest version\n",
    "path = kagglehub.dataset_download(\"mlg-ulb/creditcardfraud\")\n",
    "\n",
    "print(\"Path to dataset files:\", path)"
   ]
  },
  {
   "cell_type": "code",
   "execution_count": 5,
   "id": "5ef6d5ba-dde7-4f73-b3ee-9934e0eed85d",
   "metadata": {},
   "outputs": [],
   "source": [
    "# Set recursion limit (use with caution)\n",
    "sys.setrecursionlimit(10000)\n",
    "\n",
    "# Spark setup\n",
    "conf = SparkConf().setAppName(\"Optimized_SSA\").setMaster(\"local[*]\")"
   ]
  },
  {
   "cell_type": "code",
   "execution_count": 6,
   "id": "2d9f70b5-aef9-4fed-b10b-4b7b0d6c5329",
   "metadata": {},
   "outputs": [
    {
     "name": "stdout",
     "output_type": "stream",
     "text": [
      "(284807, 31)\n"
     ]
    },
    {
     "data": {
      "text/plain": [
       "(284807, 30)"
      ]
     },
     "execution_count": 6,
     "metadata": {},
     "output_type": "execute_result"
    }
   ],
   "source": [
    "# Select fraud detection dataset\n",
    "df = pd.read_csv(path + \"/creditcard.csv\")\n",
    "print(df.shape)\n",
    "# df = df.head(10000)\n",
    "X = df.drop(['Class'],axis = 1)\n",
    "y = df['Class']\n",
    "scaler = MinMaxScaler()\n",
    "X = scaler.fit_transform(X)\n",
    "X.shape"
   ]
  },
  {
   "cell_type": "code",
   "execution_count": 1,
   "id": "326fb4ef-f771-4d5e-b494-1055c0d86442",
   "metadata": {},
   "outputs": [
    {
     "ename": "NameError",
     "evalue": "name 'load_breast_cancer' is not defined",
     "output_type": "error",
     "traceback": [
      "\u001b[0;31m---------------------------------------------------------------------------\u001b[0m",
      "\u001b[0;31mNameError\u001b[0m                                 Traceback (most recent call last)",
      "Cell \u001b[0;32mIn[1], line 2\u001b[0m\n\u001b[1;32m      1\u001b[0m \u001b[38;5;66;03m# Seclect breast cancer dataset\u001b[39;00m\n\u001b[0;32m----> 2\u001b[0m data \u001b[38;5;241m=\u001b[39m \u001b[43mload_breast_cancer\u001b[49m()\n\u001b[1;32m      3\u001b[0m X \u001b[38;5;241m=\u001b[39m data\u001b[38;5;241m.\u001b[39mdata\n\u001b[1;32m      4\u001b[0m y \u001b[38;5;241m=\u001b[39m data\u001b[38;5;241m.\u001b[39mtarget\n",
      "\u001b[0;31mNameError\u001b[0m: name 'load_breast_cancer' is not defined"
     ]
    }
   ],
   "source": [
    "# Seclect breast cancer dataset\n",
    "data = load_breast_cancer()\n",
    "X = data.data\n",
    "y = data.target\n",
    "scaler = MinMaxScaler()\n",
    "X = scaler.fit_transform(X)\n",
    "X.shape"
   ]
  },
  {
   "cell_type": "code",
   "execution_count": 7,
   "id": "41a3debd-472f-44f5-86a5-f3c5d21d7809",
   "metadata": {},
   "outputs": [],
   "source": [
    "population_size = 10\n",
    "max_iter = 100\n",
    "c1_initial = 2\n",
    "\n",
    "# Fitness function for SSA (using SVM )\n",
    "def fitness_function(selected_features, X, y, model=SVC(kernel='linear')):\n",
    "    selected_indices = [i for i, is_selected in enumerate(selected_features) if is_selected]\n",
    "    if len(selected_indices) == 0:\n",
    "        return 1.0  # High penalty if no features are selected\n",
    "    select = int(X.shape[0])\n",
    "    X_selected = X[: select , selected_indices]\n",
    "    y_selected = y[: select ]\n",
    "    # 5-fold cross-validation accuracy\n",
    "    accuracy = cross_val_score(model, X_selected, y_selected).mean()\n",
    "    return 1 - accuracy  # We minimize this (maximize accuracy)\n",
    "\n",
    "# Salp Swarm Algorithm for feature selection\n",
    "def salp_swarm_algorithm(X, y, model=SVC(kernel='linear')):\n",
    "    dim = X.shape[1]\n",
    "    salp_positions = np.random.randint(2, size=(population_size, dim))\n",
    "    best_salp_position = None\n",
    "    best_salp_fitness = float('inf')\n",
    "\n",
    "    print(\"Initial Salp Position : \\n\",salp_positions)\n",
    "\n",
    "    for iteration in range(max_iter):\n",
    "        c1 = c1_initial * np.exp(-4 * (iteration / max_iter) ** 2)  # Calculate c1\n",
    "        \n",
    "        for i in range(population_size):\n",
    "            fitness = fitness_function(salp_positions[i], X, y, model)\n",
    "            if fitness < best_salp_fitness:\n",
    "                best_salp_fitness = fitness\n",
    "                best_salp_position = salp_positions[i].copy()\n",
    "\n",
    "        for i in range(population_size):\n",
    "            # THis updates the leader salps position\n",
    "            if i == 0:\n",
    "                salp_positions[i] = np.where(\n",
    "                    np.random.rand(dim) < c1,\n",
    "                    best_salp_position,\n",
    "                    salp_positions[i]\n",
    "                )\n",
    "            # This updates the followers positions\n",
    "            else:\n",
    "                salp_positions[i] = (salp_positions[i] + salp_positions[i - 1]) / 2\n",
    "                salp_positions[i] = np.where(salp_positions[i] >= 0.5, 1, 0)\n",
    "        # print(f\"Iteration {iteration + 1}/{max_iter}, Best Fitness: {1 - best_salp_fitness}\")\n",
    "    print(\"Final Salp Position : \\n\",salp_positions)\n",
    "    print(\"Best Salp Position : \",best_salp_position)\n",
    "    print(\"Best Salp Fitness : \",best_salp_fitness)\n",
    "    return best_salp_position, 1 - best_salp_fitness"
   ]
  },
  {
   "cell_type": "code",
   "execution_count": 1,
   "id": "c50b0a6a-89d8-4c21-a9da-046524d06bd3",
   "metadata": {},
   "outputs": [],
   "source": [
    "population_size = 10\n",
    "max_iter = 10\n",
    "c1_initial = 2\n",
    "\n",
    "# Fitness function for SSA (using SVM )\n",
    "def fitness_function_parallel(selected_features,X,y):\n",
    "    selected_indices = [i for i, is_selected in enumerate(selected_features) if is_selected]\n",
    "    if len(selected_indices) == 0:\n",
    "        return 1.0  # Penalty if no features are selected\n",
    "    X_selected = X[:, selected_indices]\n",
    "    accuracy = cross_val_score(LogisticRegression(max_iter=1000), X_selected, y, cv=3).mean()\n",
    "    return 1 - accuracy\n",
    "\n",
    "# Salp Swarm Algorithm for feature selection\n",
    "def salp_swarm_algorithm_parallel(X,y):\n",
    "    sc = SparkContext.getOrCreate(conf=conf)\n",
    "    bc_X = sc.broadcast(X)\n",
    "    bc_y = sc.broadcast(y)\n",
    "    X = bc_X.value\n",
    "    y = bc_y.value\n",
    "    # Initialize population\n",
    "    initial_population = np.random.randint(2, size=(population_size, X.shape[1])).tolist()\n",
    "    population_rdd = sc.parallelize(initial_population).cache()\n",
    "\n",
    "    best_salp_position, best_salp_fitness = None, float('inf')\n",
    "    for iteration in range(max_iter):\n",
    "        c1 = c1_initial * np.exp(-4 * (iteration / max_iter) ** 2)\n",
    "    \n",
    "        # Evaluate fitness in parallel\n",
    "        fitness_rdd = population_rdd.mapPartitions(lambda iter: [fitness_function_parallel(salp,X,y) for salp in iter])\n",
    "        fitness_values = fitness_rdd.collect()\n",
    "    \n",
    "        min_fitness = min(fitness_values)\n",
    "        best_index = fitness_values.index(min_fitness)\n",
    "        best_salp_position = population_rdd.collect()[best_index]\n",
    "    \n",
    "        # Broadcast best position\n",
    "        bc_best_salp_position = sc.broadcast(best_salp_position)\n",
    "    \n",
    "        # Update positions\n",
    "        def update_position(salp, idx):\n",
    "            salp = np.array(salp)\n",
    "            if idx == 0:\n",
    "                return np.where(np.random.rand(X.shape[1]) < c1, bc_best_salp_position.value, salp)\n",
    "            else:\n",
    "                prev_salp = np.array(bc_best_salp_position.value)\n",
    "                return np.where((salp + prev_salp) / 2 >= 0.5, 1, 0)\n",
    "    \n",
    "        population_rdd = population_rdd.zipWithIndex().map(lambda x: update_position(x[0], x[1]))\n",
    "        bc_best_salp_position.unpersist()\n",
    "\n",
    "        if (iteration + 1) % 10 == 0:\n",
    "            print(f\"Iteration {iteration + 1}/{max_iter}, Best Fitness: {1 - min_fitness}\")\n",
    "    print(\"Final Salp Position : \\n\",population_rdd)\n",
    "    print(\"Best Salp Position : \",best_salp_position)\n",
    "    print(\"Best Salp Fitness : \",1 - min_fitness)\n",
    "    sc.stop()\n",
    "    return best_salp_position, 1 - best_salp_fitness"
   ]
  },
  {
   "cell_type": "code",
   "execution_count": 9,
   "id": "895563c3-e7a4-468d-bbc7-a0ffe3d5c712",
   "metadata": {},
   "outputs": [],
   "source": [
    "# Cross-validation with the selected features\n",
    "def evaluate_model_with_selected_features(X, y, selected_features, model=SVC(kernel='linear'), cv=5):\n",
    "    selected_indices = [i for i, is_selected in enumerate(selected_features) if is_selected]\n",
    "    X_selected = X[:, selected_indices]\n",
    "    scores = cross_val_score(model, X_selected, y, cv=cv)\n",
    "    return scores.mean(), scores.std(),scores"
   ]
  },
  {
   "cell_type": "code",
   "execution_count": 9,
   "id": "68eebc24-b855-4570-b4f7-c3549af9d084",
   "metadata": {
    "scrolled": true
   },
   "outputs": [
    {
     "name": "stdout",
     "output_type": "stream",
     "text": [
      "Initial Salp Position : \n",
      " [[0 1 1 0 1 1 0 1 1 1 1 1 1 1 1 0 0 1 1 1 1 1 0 1 1 0 0 0 1 0]\n",
      " [0 1 1 1 1 1 0 1 1 1 0 0 1 0 0 1 0 1 1 1 1 0 1 1 0 1 0 1 0 0]\n",
      " [1 0 1 0 1 1 1 0 1 1 1 1 0 0 0 0 1 0 0 1 0 1 1 0 1 1 0 0 0 1]\n",
      " [1 0 1 1 0 0 1 1 0 0 1 0 1 0 0 1 0 1 0 0 1 1 1 1 1 0 1 0 1 1]\n",
      " [0 0 1 1 1 0 1 1 0 0 0 0 0 1 0 1 0 1 1 1 0 1 0 0 0 0 0 1 1 1]\n",
      " [0 1 1 1 0 1 1 1 0 1 0 1 0 0 0 0 0 0 1 1 0 1 0 0 1 1 0 1 0 0]\n",
      " [0 0 0 0 0 0 1 1 0 1 0 0 0 1 1 0 0 0 0 0 0 0 1 1 1 0 1 0 1 0]\n",
      " [1 1 1 0 0 0 0 1 1 1 0 1 1 1 0 1 0 0 1 1 1 0 0 0 0 0 0 0 0 0]\n",
      " [0 0 1 0 1 1 1 1 1 0 1 0 0 1 0 1 0 0 0 1 0 0 1 1 0 0 0 1 0 1]\n",
      " [0 0 1 1 1 0 0 1 1 0 0 0 1 1 1 0 1 1 0 1 1 0 1 1 0 1 0 0 0 0]]\n",
      "Final Salp Position : \n",
      " [[0 1 1 0 1 1 0 1 1 1 1 1 1 1 1 0 0 1 1 1 1 1 0 1 1 0 0 0 1 0]\n",
      " [0 1 1 0 1 1 0 1 1 1 0 0 1 0 0 0 0 1 1 1 1 0 0 1 0 0 0 0 0 0]\n",
      " [0 0 1 0 1 1 0 0 1 1 0 0 0 0 0 0 0 0 0 1 0 0 0 0 0 0 0 0 0 0]\n",
      " [0 0 1 0 0 0 0 0 0 0 0 0 0 0 0 0 0 0 0 0 0 0 0 0 0 0 0 0 0 0]\n",
      " [0 0 1 0 0 0 0 0 0 0 0 0 0 0 0 0 0 0 0 0 0 0 0 0 0 0 0 0 0 0]\n",
      " [0 0 1 0 0 0 0 0 0 0 0 0 0 0 0 0 0 0 0 0 0 0 0 0 0 0 0 0 0 0]\n",
      " [0 0 0 0 0 0 0 0 0 0 0 0 0 0 0 0 0 0 0 0 0 0 0 0 0 0 0 0 0 0]\n",
      " [0 0 0 0 0 0 0 0 0 0 0 0 0 0 0 0 0 0 0 0 0 0 0 0 0 0 0 0 0 0]\n",
      " [0 0 0 0 0 0 0 0 0 0 0 0 0 0 0 0 0 0 0 0 0 0 0 0 0 0 0 0 0 0]\n",
      " [0 0 0 0 0 0 0 0 0 0 0 0 0 0 0 0 0 0 0 0 0 0 0 0 0 0 0 0 0 0]]\n",
      "Best Salp Position :  [0 1 1 0 1 1 0 1 1 1 1 1 1 1 1 0 0 1 1 1 1 1 0 1 1 0 0 0 1 0]\n",
      "Best Salp Fitness :  0.029871138022046217\n",
      "SSA :\n",
      "Selected Features Index: [1, 2, 4, 5, 7, 8, 9, 10, 11, 12, 13, 14, 17, 18, 19, 20, 21, 23, 24, 28]\n",
      "Best Accuracy (SVM) During Selection: 0.9701288619779538\n",
      "Cross-validation Results with Selected Features our selected featurees :\n",
      "Mean Accuracy: 0.9666511411271541, Standard Deviation: 0.021753857212593278\n"
     ]
    }
   ],
   "source": [
    "best_features, best_accuracy = salp_swarm_algorithm(X, y, model=SVC(kernel='linear'))\n",
    "print(\"SSA :\")\n",
    "print(\"Selected Features Index:\", [i for i, x in enumerate(best_features) if x])\n",
    "print(\"Best Accuracy (SVM) During Selection:\", best_accuracy)\n",
    "\n",
    "mean_accuracy, std_dev,ssa_hist = evaluate_model_with_selected_features(X, y, best_features, model=RandomForestClassifier(), cv=5)\n",
    "print(\"Cross-validation Results with Selected Features our selected featurees :\")\n",
    "print(f\"Mean Accuracy: {mean_accuracy}, Standard Deviation: {std_dev}\")"
   ]
  },
  {
   "cell_type": "code",
   "execution_count": null,
   "id": "766b317f-f4af-4d88-a530-21dee3b67680",
   "metadata": {
    "scrolled": true
   },
   "outputs": [
    {
     "name": "stderr",
     "output_type": "stream",
     "text": [
      "Setting default log level to \"WARN\".\n",
      "To adjust logging level use sc.setLogLevel(newLevel). For SparkR, use setLogLevel(newLevel).\n",
      "24/11/04 12:45:00 WARN NativeCodeLoader: Unable to load native-hadoop library for your platform... using builtin-java classes where applicable\n",
      "24/11/04 12:45:13 WARN GarbageCollectionMetrics: To enable non-built-in garbage collector(s) List(G1 Concurrent GC), users should configure it(them) to spark.eventLog.gcMetrics.youngGenerationGarbageCollectors or spark.eventLog.gcMetrics.oldGenerationGarbageCollectors\n",
      "                                                                                \r"
     ]
    },
    {
     "name": "stdout",
     "output_type": "stream",
     "text": [
      "Iteration 10/10, Best Fitness: 0.9988834530780025\n",
      "Final Salp Position : \n",
      " PythonRDD[30] at RDD at PythonRDD.scala:53\n",
      "Best Salp Position :  [1 1 1 1 1 1 0 1 1 0 1 1 1 1 1 1 1 1 1 1 1 1 1 1 1 1 0 1 0 0]\n",
      "Best Salp Fitness :  0.9988834530780025\n",
      "SSA :\n",
      "Selected Features Index: [0, 1, 2, 3, 4, 5, 7, 8, 10, 11, 12, 13, 14, 15, 16, 17, 18, 19, 20, 21, 22, 23, 24, 25, 27]\n",
      "Best Accuracy (SVM) During Selection: -inf\n"
     ]
    },
    {
     "name": "stderr",
     "output_type": "stream",
     "text": [
      "24/11/04 12:53:34 WARN JavaUtils: Attempt to delete using native Unix OS command failed for path = /tmp/spark-9d7f15fc-05ce-4e82-8212-e0e27be3f3b8/pyspark-1e65929f-e10e-447f-be90-a8b0d44a1194. Falling back to Java IO way\n",
      "java.io.IOException: Failed to delete: /tmp/spark-9d7f15fc-05ce-4e82-8212-e0e27be3f3b8/pyspark-1e65929f-e10e-447f-be90-a8b0d44a1194\n",
      "\tat org.apache.spark.network.util.JavaUtils.deleteRecursivelyUsingUnixNative(JavaUtils.java:174)\n",
      "\tat org.apache.spark.network.util.JavaUtils.deleteRecursively(JavaUtils.java:109)\n",
      "\tat org.apache.spark.network.util.JavaUtils.deleteRecursively(JavaUtils.java:90)\n",
      "\tat org.apache.spark.util.SparkFileUtils.deleteRecursively(SparkFileUtils.scala:121)\n",
      "\tat org.apache.spark.util.SparkFileUtils.deleteRecursively$(SparkFileUtils.scala:120)\n",
      "\tat org.apache.spark.util.Utils$.deleteRecursively(Utils.scala:1126)\n",
      "\tat org.apache.spark.util.ShutdownHookManager$.$anonfun$new$4(ShutdownHookManager.scala:65)\n",
      "\tat org.apache.spark.util.ShutdownHookManager$.$anonfun$new$4$adapted(ShutdownHookManager.scala:62)\n",
      "\tat scala.collection.IndexedSeqOptimized.foreach(IndexedSeqOptimized.scala:36)\n",
      "\tat scala.collection.IndexedSeqOptimized.foreach$(IndexedSeqOptimized.scala:33)\n",
      "\tat scala.collection.mutable.ArrayOps$ofRef.foreach(ArrayOps.scala:198)\n",
      "\tat org.apache.spark.util.ShutdownHookManager$.$anonfun$new$2(ShutdownHookManager.scala:62)\n",
      "\tat org.apache.spark.util.SparkShutdownHook.run(ShutdownHookManager.scala:214)\n",
      "\tat org.apache.spark.util.SparkShutdownHookManager.$anonfun$runAll$2(ShutdownHookManager.scala:188)\n",
      "\tat scala.runtime.java8.JFunction0$mcV$sp.apply(JFunction0$mcV$sp.java:23)\n",
      "\tat org.apache.spark.util.Utils$.logUncaughtExceptions(Utils.scala:1928)\n",
      "\tat org.apache.spark.util.SparkShutdownHookManager.$anonfun$runAll$1(ShutdownHookManager.scala:188)\n",
      "\tat scala.runtime.java8.JFunction0$mcV$sp.apply(JFunction0$mcV$sp.java:23)\n",
      "\tat scala.util.Try$.apply(Try.scala:213)\n",
      "\tat org.apache.spark.util.SparkShutdownHookManager.runAll(ShutdownHookManager.scala:188)\n",
      "\tat org.apache.spark.util.SparkShutdownHookManager$$anon$2.run(ShutdownHookManager.scala:178)\n",
      "\tat java.base/java.util.concurrent.Executors$RunnableAdapter.call(Executors.java:572)\n",
      "\tat java.base/java.util.concurrent.FutureTask.run(FutureTask.java:317)\n",
      "\tat java.base/java.util.concurrent.ThreadPoolExecutor.runWorker(ThreadPoolExecutor.java:1144)\n",
      "\tat java.base/java.util.concurrent.ThreadPoolExecutor$Worker.run(ThreadPoolExecutor.java:642)\n",
      "\tat java.base/java.lang.Thread.run(Thread.java:1583)\n"
     ]
    }
   ],
   "source": [
    "#Salp Swarm PArallel\n",
    "best_features, best_accuracy = salp_swarm_algorithm_parallel(X,y)\n",
    "print(\"SSA :\")\n",
    "print(\"Selected Features Index:\", [i for i, x in enumerate(best_features) if x])\n",
    "print(\"Best Accuracy (SVM) During Selection:\", best_accuracy)\n",
    "\n",
    "mean_accuracy, std_dev,ssa_hist = evaluate_model_with_selected_features(X, y, best_features, model=RandomForestClassifier(), cv=5)\n",
    "print(\"Cross-validation Results with Selected Features our selected featurees :\")\n",
    "print(f\"Mean Accuracy: {mean_accuracy}, Standard Deviation: {std_dev}\")"
   ]
  },
  {
   "cell_type": "code",
   "execution_count": 18,
   "id": "15471491-58a1-4c1e-a638-0f0323f6e4b2",
   "metadata": {},
   "outputs": [
    {
     "name": "stdout",
     "output_type": "stream",
     "text": [
      "Information Gain-selected Features:\n",
      "Selected Features: [ 2  3 16 26 12 10  6 14 23  7]\n",
      "Mean Accuracy: 0.9455674584691817, Standard Deviation: 0.02438238404896371\n",
      "\n",
      "Gini selected Features:\n",
      "Selected Features: [21  0 17 28  1  9 18  4  8 24]\n",
      "Mean Accuracy: 0.9419655333022823, Standard Deviation: 0.01984371674915783\n",
      "\n",
      "PCA selected features:\n",
      "Mean Accuracy: 0.9507685142058685, Standard Deviation: 0.02126230430167862\n",
      "\n"
     ]
    }
   ],
   "source": [
    "# Using different feature selection techniques for comparison\n",
    "def calculate_gini_index(X, y):\n",
    "    gini_indices = []\n",
    "    for feature in range(X.shape[1]):\n",
    "        feature_values = X[:, feature]\n",
    "        unique_values = np.unique(feature_values)\n",
    "        \n",
    "        gini_feature = 0.0\n",
    "        for value in unique_values:\n",
    "            subset_y = y[feature_values == value]\n",
    "            prob_positive = np.sum(subset_y == 1) / len(subset_y) if len(subset_y) > 0 else 0\n",
    "            prob_negative = 1 - prob_positive\n",
    "            gini_value = 1 - (prob_positive**2 + prob_negative**2)\n",
    "            gini_feature += (len(subset_y) / len(y)) * gini_value\n",
    "        gini_indices.append(gini_feature)\n",
    "    return np.array(gini_indices)\n",
    "\n",
    "def calculate_information_gain(X, y):\n",
    "    info_gains = []\n",
    "    entropy_y = - (np.sum(y == 1) / len(y)) * np.log2(np.sum(y == 1) / len(y)) \\\n",
    "                - (np.sum(y == 0) / len(y)) * np.log2(np.sum(y == 0) / len(y))\n",
    "    \n",
    "    for feature in range(X.shape[1]):\n",
    "        feature_values = X[:, feature]\n",
    "        unique_values = np.unique(feature_values)\n",
    "        \n",
    "        # Calculate conditional entropy for the feature\n",
    "        conditional_entropy = 0.0\n",
    "        for value in unique_values:\n",
    "            subset_y = y[feature_values == value]\n",
    "            if len(subset_y) == 0:\n",
    "                continue\n",
    "            prob_positive = np.sum(subset_y == 1) / len(subset_y)\n",
    "            prob_negative = 1 - prob_positive\n",
    "            entropy_value = 0\n",
    "            if prob_positive > 0:\n",
    "                entropy_value -= prob_positive * np.log2(prob_positive)\n",
    "            if prob_negative > 0:\n",
    "                entropy_value -= prob_negative * np.log2(prob_negative)\n",
    "            conditional_entropy += (len(subset_y) / len(y)) * entropy_value\n",
    "\n",
    "        # Information gain is the difference in entropy\n",
    "        info_gain = entropy_y - conditional_entropy\n",
    "        info_gains.append(info_gain)\n",
    "    return np.array(info_gains)\n",
    "\n",
    "def select_top_features(metric_values, top_n):\n",
    "    return np.argsort(metric_values)[-top_n:]\n",
    "\n",
    "def evaluate_model(X, y, selected_features, model, cv=5):\n",
    "    X_selected = X[:, selected_features]\n",
    "    scores = cross_val_score(model, X_selected, y, cv=cv)\n",
    "    return scores.mean(), scores.std()\n",
    "\n",
    "logistic_model = LogisticRegression(max_iter=1000, solver='liblinear')\n",
    "random_forest_model = RandomForestClassifier(n_estimators=100, random_state=42)\n",
    "\n",
    "gini_indices = calculate_gini_index(X, y)\n",
    "info_gains = calculate_information_gain(X, y)\n",
    "\n",
    "top_n = 10  # Select with first 10 features\n",
    "gini_selected_features = select_top_features(gini_indices, top_n)\n",
    "entropy_selected_features = select_top_features(info_gains, top_n)\n",
    "\n",
    "pca = PCA(n_components=top_n)\n",
    "X_pca = pca.fit_transform(X)\n",
    "\n",
    "mean_accuracy_entropy, std_dev_entropy = evaluate_model(X, y, entropy_selected_features, random_forest_model, cv=5)\n",
    "print(\"Information Gain-selected Features:\")\n",
    "print(f\"Selected Features: {entropy_selected_features}\")\n",
    "print(f\"Mean Accuracy: {mean_accuracy_entropy}, Standard Deviation: {std_dev_entropy}\\n\")\n",
    "\n",
    "mean_accuracy_entropy, std_dev_entropy = evaluate_model(X, y, gini_selected_features, random_forest_model, cv=5)\n",
    "print(\"Gini selected Features:\")\n",
    "print(f\"Selected Features: {gini_selected_features}\")\n",
    "print(f\"Mean Accuracy: {mean_accuracy_entropy}, Standard Deviation: {std_dev_entropy}\\n\")\n",
    "\n",
    "# Testing using PCA\n",
    "mean_accuracy_entropy, std_dev_entropy = evaluate_model_full_features(X_pca,y,random_forest_model,cv=5)\n",
    "print(\"PCA selected features:\")\n",
    "print(f\"Mean Accuracy: {mean_accuracy_entropy}, Standard Deviation: {std_dev_entropy}\\n\")"
   ]
  },
  {
   "cell_type": "code",
   "execution_count": 19,
   "id": "d0c9749a-8f3a-4433-a9b7-d4cb2bc81cc5",
   "metadata": {},
   "outputs": [
    {
     "name": "stdout",
     "output_type": "stream",
     "text": [
      "Logistic Regression (Full Feature Set):\n",
      "Mean Accuracy: 0.9595870206489675, Standard Deviation: 0.006971918072338138\n",
      "\n",
      "Random Forest (Full Feature Set):\n",
      "Mean Accuracy: 0.9560937742586555, Standard Deviation: 0.02283883380490945\n",
      "\n"
     ]
    }
   ],
   "source": [
    "#This is for testing model without any feature selection\n",
    "def evaluate_model_full_features(X, y, model, cv=5):\n",
    "    scores = cross_val_score(model, X, y, cv=cv)\n",
    "    return scores.mean(), scores.std()\n",
    "\n",
    "logistic_model = LogisticRegression(max_iter=1000, solver='liblinear')\n",
    "mean_accuracy_log, std_dev_log = evaluate_model_full_features(X, y, logistic_model, cv=5)\n",
    "print(\"Logistic Regression (Full Feature Set):\")\n",
    "print(f\"Mean Accuracy: {mean_accuracy_log}, Standard Deviation: {std_dev_log}\\n\")\n",
    "\n",
    "random_forest_model = RandomForestClassifier(n_estimators=100, random_state=42)\n",
    "mean_accuracy_rf, std_dev_rf = evaluate_model_full_features(X, y, random_forest_model, cv=5)\n",
    "print(\"Random Forest (Full Feature Set):\")\n",
    "print(f\"Mean Accuracy: {mean_accuracy_rf}, Standard Deviation: {std_dev_rf}\\n\")"
   ]
  },
  {
   "cell_type": "code",
   "execution_count": null,
   "id": "e7be0f70-8778-4866-a5b4-85074a1870a1",
   "metadata": {},
   "outputs": [],
   "source": [
    "import matplotlib.pyplot as plt\n",
    "from sklearn.ensemble import RandomForestClassifier\n",
    "from sklearn.model_selection import learning_curve, train_test_split\n",
    "import numpy as np\n",
    "\n",
    "\n",
    "# Learning curve plotting function\n",
    "def plot_learning_curve(model, X, y, cv=5, train_sizes=np.linspace(0.1, 1.0, 10)):\n",
    "    train_sizes, train_scores, val_scores = learning_curve(\n",
    "        model, X, y, cv=cv, train_sizes=train_sizes, scoring='accuracy', n_jobs=-1\n",
    "    )\n",
    "    \n",
    "    # Calculate mean and standard deviation for training and validation scores\n",
    "    train_scores_mean = np.mean(train_scores, axis=1)\n",
    "    train_scores_std = np.std(train_scores, axis=1)\n",
    "    val_scores_mean = np.mean(val_scores, axis=1)\n",
    "    val_scores_std = np.std(val_scores, axis=1)\n",
    "    \n",
    "    # Plot learning curve\n",
    "    plt.figure(figsize=(10, 6))\n",
    "    plt.plot(train_sizes, train_scores_mean, 'o-', color=\"r\", label=\"Training score\")\n",
    "    plt.plot(train_sizes, val_scores_mean, 'o-', color=\"g\", label=\"Cross-validation score\")\n",
    "    \n",
    "    plt.title(\"Learning Curve for Random Forest Classifier\")\n",
    "    plt.xlabel(\"Training Set Size\")\n",
    "    plt.ylabel(\"Accuracy\")\n",
    "    plt.legend(loc=\"best\")\n",
    "    plt.grid()\n",
    "    plt.show()\n",
    "\n",
    "# Define model and plot learning curve\n",
    "model = RandomForestClassifier()\n",
    "X_selected = X[:, best_features]\n",
    "\n",
    "X_temp = df.head(10000).drop(['Class'],axis = 1)\n",
    "y_temp = df.head(10000)['Class']\n",
    "plot_learning_curve(model, X_temp, y_temp, cv=5)\n"
   ]
  },
  {
   "cell_type": "code",
   "execution_count": 21,
   "id": "a7a825c6-fc94-4b8a-b488-5e4e5e1d6f73",
   "metadata": {},
   "outputs": [
    {
     "data": {
      "image/png": "[encoded data removed]",
      "text/plain": [
       "<Figure size 500x500 with 2 Axes>"
      ]
     },
     "metadata": {},
     "output_type": "display_data"
    },
    {
     "data": {
      "image/png": "[encoded data removed]",
      "text/plain": [
       "<Figure size 500x500 with 2 Axes>"
      ]
     },
     "metadata": {},
     "output_type": "display_data"
    }
   ],
   "source": [
    "import numpy as np\n",
    "import pandas as pd\n",
    "import seaborn as sns\n",
    "import matplotlib.pyplot as plt\n",
    "from sklearn.datasets import load_breast_cancer\n",
    "from sklearn.ensemble import RandomForestClassifier\n",
    "from sklearn.feature_selection import SelectFromModel\n",
    "\n",
    "selected_features = [i for i, x in enumerate(best_features) if x]\n",
    "\n",
    "# 1. Heatmap of Correlation for All Features\n",
    "plt.figure(figsize=(5,5))\n",
    "corr_matrix = np.corrcoef(X, rowvar=False)\n",
    "sns.heatmap(corr_matrix, annot=False, cmap=\"coolwarm\", cbar=True)\n",
    "plt.title(\"Correlation Heatmap for All Features\")\n",
    "plt.show()\n",
    "\n",
    "# 2. Heatmap of Correlation for Selected Features\n",
    "X_selected = X[:, selected_features]\n",
    "plt.figure(figsize=(5, 5))\n",
    "corr_matrix = np.corrcoef(X_selected, rowvar=False)\n",
    "sns.heatmap(corr_matrix, annot=False, cmap=\"coolwarm\", cbar=True)\n",
    "plt.title(\"Correlation Heatmap for Selected Features\")\n",
    "plt.show()\n"
   ]
  }
 ],
 "metadata": {
  "kernelspec": {
   "display_name": "Python 3 (ipykernel)",
   "language": "python",
   "name": "python3"
  },
  "language_info": {
   "codemirror_mode": {
    "name": "ipython",
    "version": 3
   },
   "file_extension": ".py",
   "mimetype": "text/x-python",
   "name": "python",
   "nbconvert_exporter": "python",
   "pygments_lexer": "ipython3",
   "version": "3.12.7"
  }
 },
 "nbformat": 4,
 "nbformat_minor": 5
}
